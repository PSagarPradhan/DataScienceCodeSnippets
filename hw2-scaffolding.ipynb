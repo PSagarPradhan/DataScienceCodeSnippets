{
 "cells": [
  {
   "cell_type": "markdown",
   "metadata": {},
   "source": [
    "# Assignment 2- Linear Classifiers & Decision Trees\n",
    "\n",
    "The goal of this assignment is to familiarize yourself with the SVM and Decision Tree classifiers available in scikit-learn and practice applying them to data.\n",
    "\n",
    "This assignment does _not_ require you to implement your own classifier from scratch, but you may need to look at the SciKit-Learn documentation (https://scikit-learn.org/stable/supervised_learning.html) to figure out how to call the library methods.  Note that SVMs are in chapter 1.4, and Decision Trees are in chapter 1.10 of the linked manual."
   ]
  },
  {
   "cell_type": "code",
   "execution_count": 1,
   "metadata": {},
   "outputs": [],
   "source": [
    "# import the things we'll need\n",
    "import numpy as np\n",
    "from sklearn import datasets # import toy datasets (including iris)\n",
    "from sklearn import neighbors # import nearest neighbor classifiers\n",
    "from sklearn import svm # import SVM classifiers\n",
    "from sklearn import tree # import decision tree classifiers\n",
    "from sklearn.model_selection import train_test_split # import holdout validation split method"
   ]
  },
  {
   "cell_type": "markdown",
   "metadata": {},
   "source": [
    "## Load some data\n",
    "Let's go ahead and use the iris dataset again.  Load it the same way we did in Assignment 1b, and split it into 60% train and 40% test just like we did there.\n",
    "\n",
    "**Be sure to use the argument `random_state=0` just like we did in the previous assignment.**  This is a \"seed\" for the random number generator; any particular seed value should always result in the same set of \"random\" numbers.  We'll use fixed seed values here because it will allow everyone to get the same results."
   ]
  },
  {
   "cell_type": "code",
   "execution_count": null,
   "metadata": {
    "collapsed": true,
    "jupyter": {
     "outputs_hidden": true
    }
   },
   "outputs": [],
   "source": [
    "# load the iris dataset and split it"
   ]
  },
  {
   "cell_type": "markdown",
   "metadata": {},
   "source": [
    "## Create a Nearest Neighbor classifier\n",
    "Create a nearest neighbor classifier just like we did in Assignment 1b; here, we will use it as a baseline for comparing our new classifiers.  Be sure to train it and then evaluate its performance on the testing data (again, you should be able to use code from the previous assignment with little or no modification to do this).  Use an n_neighbors value of 1.  This should give you the same accuracy as you got in the previous assignment.\n",
    "\n",
    "Once you've got it working, try changing the `random_state` value in the train_test_split function to 1 and re-running your nearest-neighbor classifier.  Try it again with a value of 2.  Write down each of the accuracies below; the first one has been done for you."
   ]
  },
  {
   "cell_type": "code",
   "execution_count": null,
   "metadata": {
    "collapsed": true,
    "jupyter": {
     "outputs_hidden": true
    }
   },
   "outputs": [],
   "source": [
    "# create, train, and test a nearest neighbor classifier"
   ]
  },
  {
   "cell_type": "markdown",
   "metadata": {},
   "source": [
    "**Question 1: accuracy of nearest neighbor for different random seed values**\n",
    "\n",
    "seed=0, accuracy = 0.9166666666666666\n",
    "\n",
    "seed=1, accuracy =\n",
    "\n",
    "seed=2, accuracy = "
   ]
  },
  {
   "cell_type": "markdown",
   "metadata": {},
   "source": [
    "## Create a linear SVM\n",
    "Code to create a linear SVM is given; however, it is left to you to add lines to train the SVM on the training data and then evaluate its accuracy on the testing data.  This should work just like the training/testing process did using the nearestNeighbor class.\n",
    "\n",
    "Test your classifier on different train/test splits using the same three random-seed values as previously, and report the accuracies you get."
   ]
  },
  {
   "cell_type": "code",
   "execution_count": null,
   "metadata": {
    "collapsed": true,
    "jupyter": {
     "outputs_hidden": true
    }
   },
   "outputs": [],
   "source": [
    "linearSvm = svm.SVC(kernel='linear')\n",
    "# train and test"
   ]
  },
  {
   "cell_type": "markdown",
   "metadata": {},
   "source": [
    "**Question 2: accuracy of linear SVM for different random seed values**\n",
    "\n",
    "seed=0, accuracy =\n",
    "\n",
    "seed=1, accuracy =\n",
    "\n",
    "seed=2, accuracy = "
   ]
  },
  {
   "cell_type": "markdown",
   "metadata": {},
   "source": [
    "## Create a polynomial-kernel SVM\n",
    "Create another SVM, only this time use the argument `kernel='poly'` to make an SVM using a polynomial kernel.  Train and test it with different seed values as before."
   ]
  },
  {
   "cell_type": "code",
   "execution_count": null,
   "metadata": {
    "collapsed": true,
    "jupyter": {
     "outputs_hidden": true
    }
   },
   "outputs": [],
   "source": [
    "# create, train, and test"
   ]
  },
  {
   "cell_type": "markdown",
   "metadata": {},
   "source": [
    "**Question 3: accuracy of polynomial SVM for different random seed values**\n",
    "\n",
    "seed=0, accuracy =\n",
    "\n",
    "seed=1, accuracy =\n",
    "\n",
    "seed=2, accuracy = "
   ]
  },
  {
   "cell_type": "markdown",
   "metadata": {},
   "source": [
    "## Create a rbf-kernel SVM\n",
    "\n",
    "Create another svm, this time using `'rbf'` for the kernel type.  Train and test as before."
   ]
  },
  {
   "cell_type": "code",
   "execution_count": null,
   "metadata": {
    "collapsed": true,
    "jupyter": {
     "outputs_hidden": true
    }
   },
   "outputs": [],
   "source": [
    "# create, train, and test"
   ]
  },
  {
   "cell_type": "markdown",
   "metadata": {},
   "source": [
    "**Question 4: accuracy of rbf SVM for different random seed values**\n",
    "\n",
    "seed=0, accuracy =\n",
    "\n",
    "seed=1, accuracy =\n",
    "\n",
    "seed=2, accuracy = "
   ]
  },
  {
   "cell_type": "markdown",
   "metadata": {},
   "source": [
    "## Create a Decision Tree\n",
    "\n",
    "Create a decision tree, using `tree.DecisionTreeClassifier()` as your classifier.  Train and test as before."
   ]
  },
  {
   "cell_type": "code",
   "execution_count": null,
   "metadata": {
    "collapsed": true,
    "jupyter": {
     "outputs_hidden": true
    }
   },
   "outputs": [],
   "source": [
    "# create, train, and test"
   ]
  },
  {
   "cell_type": "markdown",
   "metadata": {},
   "source": [
    "**Question 5: accuracy of decision tree for different random seed values**\n",
    "\n",
    "seed=0, accuracy =\n",
    "\n",
    "seed=1, accuracy =\n",
    "\n",
    "seed=2, accuracy = "
   ]
  },
  {
   "cell_type": "markdown",
   "metadata": {},
   "source": [
    "## Visualize a Decision Tree as text\n",
    "\n",
    "Use the `tree.export_text()` method, which takes a trained classifier as its first parameter, and a set of feature names as its second parameter (you should use `feature_names=iris['feature_names']` as the second parameter); the result should be a text based visualization of the decision tree.  Note that this method returns a string, so you'll want to `print()` the result to get it to look right."
   ]
  },
  {
   "cell_type": "code",
   "execution_count": null,
   "metadata": {},
   "outputs": [],
   "source": [
    "# visualize tree as text"
   ]
  },
  {
   "cell_type": "markdown",
   "metadata": {},
   "source": [
    "## Visualize a Decision Tree as an image\n",
    "\n",
    "Use the `tree.plot_tree()` method, which takes a trained classifier as its only parameter; the result should be a graphical visualization of the decision tree"
   ]
  },
  {
   "cell_type": "code",
   "execution_count": 3,
   "metadata": {},
   "outputs": [],
   "source": [
    "import matplotlib # import plotting library for pretty output\n",
    "# vizualize tree as image"
   ]
  },
  {
   "cell_type": "code",
   "execution_count": null,
   "metadata": {},
   "outputs": [],
   "source": []
  }
 ],
 "metadata": {
  "kernelspec": {
   "display_name": "Python 3",
   "language": "python",
   "name": "python3"
  },
  "language_info": {
   "codemirror_mode": {
    "name": "ipython",
    "version": 3
   },
   "file_extension": ".py",
   "mimetype": "text/x-python",
   "name": "python",
   "nbconvert_exporter": "python",
   "pygments_lexer": "ipython3",
   "version": "3.7.3"
  }
 },
 "nbformat": 4,
 "nbformat_minor": 4
}
