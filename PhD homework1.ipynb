{
 "cells": [
  {
   "cell_type": "code",
   "execution_count": 162,
   "metadata": {},
   "outputs": [],
   "source": [
    "import os\n",
    "import pandas as pd\n",
    "import numpy as np\n",
    "import itertools\n",
    "from sklearn import linear_model\n",
    "from sklearn.metrics import mean_squared_error\n",
    "from sklearn.linear_model import LogisticRegression"
   ]
  },
  {
   "cell_type": "code",
   "execution_count": 164,
   "metadata": {},
   "outputs": [
    {
     "data": {
      "text/plain": [
       "['.ipynb_checkpoints',\n",
       " 'booking_com-travel_sample.csv',\n",
       " 'Homework',\n",
       " 'hw0.pdf',\n",
       " 'hw2-scaffolding.ipynb',\n",
       " 'hw3-scaffolding.ipynb',\n",
       " 'HW4.pdf',\n",
       " 'italy_retail.csv',\n",
       " 'italy_retail.py',\n",
       " 'Text Analysis.ipynb',\n",
       " 'Untitled.ipynb',\n",
       " 'Untitled1.ipynb',\n",
       " 'Untitled2.ipynb']"
      ]
     },
     "execution_count": 164,
     "metadata": {},
     "output_type": "execute_result"
    }
   ],
   "source": [
    "os.listdir()"
   ]
  },
  {
   "cell_type": "code",
   "execution_count": 165,
   "metadata": {},
   "outputs": [],
   "source": [
    "df = pd.read_csv('booking_com-travel_sample.csv')"
   ]
  },
  {
   "cell_type": "code",
   "execution_count": 166,
   "metadata": {},
   "outputs": [
    {
     "data": {
      "text/html": [
       "<div>\n",
       "<style scoped>\n",
       "    .dataframe tbody tr th:only-of-type {\n",
       "        vertical-align: middle;\n",
       "    }\n",
       "\n",
       "    .dataframe tbody tr th {\n",
       "        vertical-align: top;\n",
       "    }\n",
       "\n",
       "    .dataframe thead th {\n",
       "        text-align: right;\n",
       "    }\n",
       "</style>\n",
       "<table border=\"1\" class=\"dataframe\">\n",
       "  <thead>\n",
       "    <tr style=\"text-align: right;\">\n",
       "      <th></th>\n",
       "      <th>address</th>\n",
       "      <th>city</th>\n",
       "      <th>country</th>\n",
       "      <th>crawl_date</th>\n",
       "      <th>hotel_brand</th>\n",
       "      <th>hotel_description</th>\n",
       "      <th>hotel_facilities</th>\n",
       "      <th>hotel_star_rating</th>\n",
       "      <th>image_count</th>\n",
       "      <th>latitude</th>\n",
       "      <th>...</th>\n",
       "      <th>room_type</th>\n",
       "      <th>similar_hotel</th>\n",
       "      <th>site_review_count</th>\n",
       "      <th>site_review_rating</th>\n",
       "      <th>site_stay_review_rating</th>\n",
       "      <th>sitename</th>\n",
       "      <th>special_tag</th>\n",
       "      <th>state</th>\n",
       "      <th>uniq_id</th>\n",
       "      <th>zone</th>\n",
       "    </tr>\n",
       "  </thead>\n",
       "  <tbody>\n",
       "    <tr>\n",
       "      <th>0</th>\n",
       "      <td>KHIRSU, 246147 Pauri, India – Great location -</td>\n",
       "      <td>pauri</td>\n",
       "      <td>India</td>\n",
       "      <td>2016-09-01</td>\n",
       "      <td>NaN</td>\n",
       "      <td>Khirsu By GMVN offers accommodation in Pauri. ...</td>\n",
       "      <td>Bathroom:Toilet paper|Linen|Towels|Bathroom|To...</td>\n",
       "      <td>NaN</td>\n",
       "      <td>3.0</td>\n",
       "      <td>30.123749</td>\n",
       "      <td>...</td>\n",
       "      <td>Economy Double Room</td>\n",
       "      <td>Hotel Mandakini</td>\n",
       "      <td>NaN</td>\n",
       "      <td>NaN</td>\n",
       "      <td>NaN</td>\n",
       "      <td>http://www.booking.com/</td>\n",
       "      <td>Share</td>\n",
       "      <td>Uttarakhand</td>\n",
       "      <td>a5ea72415f8007fcbe65759830fdd3d9</td>\n",
       "      <td>NaN</td>\n",
       "    </tr>\n",
       "    <tr>\n",
       "      <th>1</th>\n",
       "      <td>Kaathadimattam, Balacola Post, NEAR Siva Tea F...</td>\n",
       "      <td>ooty</td>\n",
       "      <td>India</td>\n",
       "      <td>2016-09-01</td>\n",
       "      <td>NaN</td>\n",
       "      <td>Situated in Ooty in the Tamil Nadu Region, 8 k...</td>\n",
       "      <td>Bathroom:Toilet paper|Linen|Towels|Bidet|Towel...</td>\n",
       "      <td>3 stars</td>\n",
       "      <td>NaN</td>\n",
       "      <td>11.329595</td>\n",
       "      <td>...</td>\n",
       "      <td>British Empire Chalet</td>\n",
       "      <td>Treebo Yantra Leisures|Western Valley Resorts|...</td>\n",
       "      <td>5</td>\n",
       "      <td>7.6</td>\n",
       "      <td>Location:8.5|Staff:8|Cleanliness:7.5|Comfort:7...</td>\n",
       "      <td>http://www.booking.com/</td>\n",
       "      <td>Share</td>\n",
       "      <td>Tamil Nadu</td>\n",
       "      <td>7e0b055417271bbd9dae902f3e231ed4</td>\n",
       "      <td>NaN</td>\n",
       "    </tr>\n",
       "    <tr>\n",
       "      <th>2</th>\n",
       "      <td>PIPALKOTI, 246472 Pīpalkoti, India – Show map</td>\n",
       "      <td>pīpalkoti</td>\n",
       "      <td>India</td>\n",
       "      <td>2016-09-01</td>\n",
       "      <td>NaN</td>\n",
       "      <td>TRH Pipalkoti offers accommodation in Pīpalkot...</td>\n",
       "      <td>Bathroom:Toilet paper|Linen|Towels|Bathroom•Vi...</td>\n",
       "      <td>NaN</td>\n",
       "      <td>4.0</td>\n",
       "      <td>30.429540</td>\n",
       "      <td>...</td>\n",
       "      <td>Economy Double Room</td>\n",
       "      <td>TRH Joshimath (New)</td>\n",
       "      <td>NaN</td>\n",
       "      <td>NaN</td>\n",
       "      <td>NaN</td>\n",
       "      <td>http://www.booking.com/</td>\n",
       "      <td>Share</td>\n",
       "      <td>Uttarakhand</td>\n",
       "      <td>72c0af09827bbb620365aa5df523ba1d</td>\n",
       "      <td>NaN</td>\n",
       "    </tr>\n",
       "    <tr>\n",
       "      <th>3</th>\n",
       "      <td>1 KARIYIL HOUSE KUMARAKOM NORTH PO KOTTAYAM, 6...</td>\n",
       "      <td>kumarakom</td>\n",
       "      <td>India</td>\n",
       "      <td>2016-09-01</td>\n",
       "      <td>NaN</td>\n",
       "      <td>Swasti house boat 2 is located in Kumarakom, 3...</td>\n",
       "      <td>Bathroom:Toilet paper|Towels|Bath|Shower•Bedro...</td>\n",
       "      <td>NaN</td>\n",
       "      <td>2.0</td>\n",
       "      <td>9.616057</td>\n",
       "      <td>...</td>\n",
       "      <td>Deluxe Room</td>\n",
       "      <td>NaN</td>\n",
       "      <td>NaN</td>\n",
       "      <td>NaN</td>\n",
       "      <td>NaN</td>\n",
       "      <td>http://www.booking.com/</td>\n",
       "      <td>Share</td>\n",
       "      <td>Kerala</td>\n",
       "      <td>eb6fd33d99aa4a8088caa8f3ecb08275</td>\n",
       "      <td>NaN</td>\n",
       "    </tr>\n",
       "    <tr>\n",
       "      <th>4</th>\n",
       "      <td>Kavanattinkara, 686563 Kumarakom, India – Show...</td>\n",
       "      <td>kumarakom</td>\n",
       "      <td>India</td>\n",
       "      <td>2016-09-01</td>\n",
       "      <td>NaN</td>\n",
       "      <td>Amrutham Houseboat 2 is set in Kumarakom, 5 km...</td>\n",
       "      <td>Bathroom:Toilet paper|Linen|Towels|Towels/Shee...</td>\n",
       "      <td>NaN</td>\n",
       "      <td>NaN</td>\n",
       "      <td>9.632854</td>\n",
       "      <td>...</td>\n",
       "      <td>Mobile Home</td>\n",
       "      <td>Mandala Beach House &amp; Cottages</td>\n",
       "      <td>NaN</td>\n",
       "      <td>NaN</td>\n",
       "      <td>NaN</td>\n",
       "      <td>http://www.booking.com/</td>\n",
       "      <td>Share</td>\n",
       "      <td>Kerala</td>\n",
       "      <td>0814d9af7ad808863c04db8f30437c57</td>\n",
       "      <td>NaN</td>\n",
       "    </tr>\n",
       "  </tbody>\n",
       "</table>\n",
       "<p>5 rows × 29 columns</p>\n",
       "</div>"
      ],
      "text/plain": [
       "                                             address       city country  \\\n",
       "0     KHIRSU, 246147 Pauri, India – Great location -      pauri   India   \n",
       "1  Kaathadimattam, Balacola Post, NEAR Siva Tea F...       ooty   India   \n",
       "2      PIPALKOTI, 246472 Pīpalkoti, India – Show map  pīpalkoti   India   \n",
       "3  1 KARIYIL HOUSE KUMARAKOM NORTH PO KOTTAYAM, 6...  kumarakom   India   \n",
       "4  Kavanattinkara, 686563 Kumarakom, India – Show...  kumarakom   India   \n",
       "\n",
       "   crawl_date hotel_brand                                  hotel_description  \\\n",
       "0  2016-09-01         NaN  Khirsu By GMVN offers accommodation in Pauri. ...   \n",
       "1  2016-09-01         NaN  Situated in Ooty in the Tamil Nadu Region, 8 k...   \n",
       "2  2016-09-01         NaN  TRH Pipalkoti offers accommodation in Pīpalkot...   \n",
       "3  2016-09-01         NaN  Swasti house boat 2 is located in Kumarakom, 3...   \n",
       "4  2016-09-01         NaN  Amrutham Houseboat 2 is set in Kumarakom, 5 km...   \n",
       "\n",
       "                                    hotel_facilities hotel_star_rating  \\\n",
       "0  Bathroom:Toilet paper|Linen|Towels|Bathroom|To...               NaN   \n",
       "1  Bathroom:Toilet paper|Linen|Towels|Bidet|Towel...           3 stars   \n",
       "2  Bathroom:Toilet paper|Linen|Towels|Bathroom•Vi...               NaN   \n",
       "3  Bathroom:Toilet paper|Towels|Bath|Shower•Bedro...               NaN   \n",
       "4  Bathroom:Toilet paper|Linen|Towels|Towels/Shee...               NaN   \n",
       "\n",
       "   image_count   latitude  ...              room_type  \\\n",
       "0          3.0  30.123749  ...    Economy Double Room   \n",
       "1          NaN  11.329595  ...  British Empire Chalet   \n",
       "2          4.0  30.429540  ...    Economy Double Room   \n",
       "3          2.0   9.616057  ...            Deluxe Room   \n",
       "4          NaN   9.632854  ...            Mobile Home   \n",
       "\n",
       "                                       similar_hotel site_review_count  \\\n",
       "0                                    Hotel Mandakini               NaN   \n",
       "1  Treebo Yantra Leisures|Western Valley Resorts|...                 5   \n",
       "2                                TRH Joshimath (New)               NaN   \n",
       "3                                                NaN               NaN   \n",
       "4                     Mandala Beach House & Cottages               NaN   \n",
       "\n",
       "   site_review_rating                            site_stay_review_rating  \\\n",
       "0                 NaN                                                NaN   \n",
       "1                 7.6  Location:8.5|Staff:8|Cleanliness:7.5|Comfort:7...   \n",
       "2                 NaN                                                NaN   \n",
       "3                 NaN                                                NaN   \n",
       "4                 NaN                                                NaN   \n",
       "\n",
       "                  sitename special_tag        state  \\\n",
       "0  http://www.booking.com/       Share  Uttarakhand   \n",
       "1  http://www.booking.com/       Share   Tamil Nadu   \n",
       "2  http://www.booking.com/       Share  Uttarakhand   \n",
       "3  http://www.booking.com/       Share       Kerala   \n",
       "4  http://www.booking.com/       Share       Kerala   \n",
       "\n",
       "                            uniq_id zone  \n",
       "0  a5ea72415f8007fcbe65759830fdd3d9  NaN  \n",
       "1  7e0b055417271bbd9dae902f3e231ed4  NaN  \n",
       "2  72c0af09827bbb620365aa5df523ba1d  NaN  \n",
       "3  eb6fd33d99aa4a8088caa8f3ecb08275  NaN  \n",
       "4  0814d9af7ad808863c04db8f30437c57  NaN  \n",
       "\n",
       "[5 rows x 29 columns]"
      ]
     },
     "execution_count": 166,
     "metadata": {},
     "output_type": "execute_result"
    }
   ],
   "source": [
    "df.head()"
   ]
  },
  {
   "cell_type": "code",
   "execution_count": 167,
   "metadata": {},
   "outputs": [
    {
     "data": {
      "text/plain": [
       "address                     object\n",
       "city                        object\n",
       "country                     object\n",
       "crawl_date                  object\n",
       "hotel_brand                 object\n",
       "hotel_description           object\n",
       "hotel_facilities            object\n",
       "hotel_star_rating           object\n",
       "image_count                float64\n",
       "latitude                   float64\n",
       "locality                    object\n",
       "longitude                  float64\n",
       "pageurl                     object\n",
       "property_id                float64\n",
       "property_name               object\n",
       "property_type               object\n",
       "province                    object\n",
       "qts                         object\n",
       "room_count                 float64\n",
       "room_type                   object\n",
       "similar_hotel               object\n",
       "site_review_count           object\n",
       "site_review_rating         float64\n",
       "site_stay_review_rating     object\n",
       "sitename                    object\n",
       "special_tag                 object\n",
       "state                       object\n",
       "uniq_id                     object\n",
       "zone                        object\n",
       "dtype: object"
      ]
     },
     "execution_count": 167,
     "metadata": {},
     "output_type": "execute_result"
    }
   ],
   "source": [
    "df.dtypes"
   ]
  },
  {
   "cell_type": "code",
   "execution_count": 168,
   "metadata": {},
   "outputs": [
    {
     "data": {
      "text/plain": [
       "address                     9.833333\n",
       "city                        0.300000\n",
       "country                     0.000000\n",
       "crawl_date                  0.000000\n",
       "hotel_brand                78.133333\n",
       "hotel_description           9.833333\n",
       "hotel_facilities            9.833333\n",
       "hotel_star_rating          48.750000\n",
       "image_count                41.050000\n",
       "latitude                    0.000000\n",
       "locality                   91.183333\n",
       "longitude                   0.000000\n",
       "pageurl                     0.000000\n",
       "property_id                 9.833333\n",
       "property_name               9.833333\n",
       "property_type               0.000000\n",
       "province                   91.183333\n",
       "qts                         0.000000\n",
       "room_count                  9.833333\n",
       "room_type                   0.083333\n",
       "similar_hotel              29.250000\n",
       "site_review_count          29.966667\n",
       "site_review_rating         20.133333\n",
       "site_stay_review_rating    63.950000\n",
       "sitename                    0.000000\n",
       "special_tag                 9.833333\n",
       "state                       0.816667\n",
       "uniq_id                     0.000000\n",
       "zone                       91.183333\n",
       "dtype: float64"
      ]
     },
     "execution_count": 168,
     "metadata": {},
     "output_type": "execute_result"
    }
   ],
   "source": [
    "df.isnull().sum()*100/len(df)"
   ]
  },
  {
   "cell_type": "markdown",
   "metadata": {},
   "source": [
    "##### Dropping columns with null values greater than 30%"
   ]
  },
  {
   "cell_type": "code",
   "execution_count": 169,
   "metadata": {},
   "outputs": [],
   "source": [
    "columns = ['hotel_brand','hotel_star_rating','image_count','locality','province','site_stay_review_rating','zone','similar_hotel','site_review_count','site_review_rating']\n",
    "df.drop(columns = columns, axis = 1, inplace = True)"
   ]
  },
  {
   "cell_type": "code",
   "execution_count": 170,
   "metadata": {},
   "outputs": [
    {
     "data": {
      "text/html": [
       "<div>\n",
       "<style scoped>\n",
       "    .dataframe tbody tr th:only-of-type {\n",
       "        vertical-align: middle;\n",
       "    }\n",
       "\n",
       "    .dataframe tbody tr th {\n",
       "        vertical-align: top;\n",
       "    }\n",
       "\n",
       "    .dataframe thead th {\n",
       "        text-align: right;\n",
       "    }\n",
       "</style>\n",
       "<table border=\"1\" class=\"dataframe\">\n",
       "  <thead>\n",
       "    <tr style=\"text-align: right;\">\n",
       "      <th></th>\n",
       "      <th>address</th>\n",
       "      <th>city</th>\n",
       "      <th>country</th>\n",
       "      <th>crawl_date</th>\n",
       "      <th>hotel_description</th>\n",
       "      <th>hotel_facilities</th>\n",
       "      <th>latitude</th>\n",
       "      <th>longitude</th>\n",
       "      <th>pageurl</th>\n",
       "      <th>property_id</th>\n",
       "      <th>property_name</th>\n",
       "      <th>property_type</th>\n",
       "      <th>qts</th>\n",
       "      <th>room_count</th>\n",
       "      <th>room_type</th>\n",
       "      <th>sitename</th>\n",
       "      <th>special_tag</th>\n",
       "      <th>state</th>\n",
       "      <th>uniq_id</th>\n",
       "    </tr>\n",
       "  </thead>\n",
       "  <tbody>\n",
       "    <tr>\n",
       "      <th>0</th>\n",
       "      <td>KHIRSU, 246147 Pauri, India – Great location -</td>\n",
       "      <td>pauri</td>\n",
       "      <td>India</td>\n",
       "      <td>2016-09-01</td>\n",
       "      <td>Khirsu By GMVN offers accommodation in Pauri. ...</td>\n",
       "      <td>Bathroom:Toilet paper|Linen|Towels|Bathroom|To...</td>\n",
       "      <td>30.123749</td>\n",
       "      <td>78.793774</td>\n",
       "      <td>http://www.booking.com/hotel/in/khirsu-by-gmvn...</td>\n",
       "      <td>1742658.0</td>\n",
       "      <td>Khirsu By GMVN</td>\n",
       "      <td>204</td>\n",
       "      <td>2016-09-01 11:52:38 +0000</td>\n",
       "      <td>18.0</td>\n",
       "      <td>Economy Double Room</td>\n",
       "      <td>http://www.booking.com/</td>\n",
       "      <td>Share</td>\n",
       "      <td>Uttarakhand</td>\n",
       "      <td>a5ea72415f8007fcbe65759830fdd3d9</td>\n",
       "    </tr>\n",
       "    <tr>\n",
       "      <th>1</th>\n",
       "      <td>Kaathadimattam, Balacola Post, NEAR Siva Tea F...</td>\n",
       "      <td>ooty</td>\n",
       "      <td>India</td>\n",
       "      <td>2016-09-01</td>\n",
       "      <td>Situated in Ooty in the Tamil Nadu Region, 8 k...</td>\n",
       "      <td>Bathroom:Toilet paper|Linen|Towels|Bidet|Towel...</td>\n",
       "      <td>11.329595</td>\n",
       "      <td>76.686732</td>\n",
       "      <td>http://www.booking.com/hotel/in/global-village...</td>\n",
       "      <td>1755986.0</td>\n",
       "      <td>Global Village Ooty</td>\n",
       "      <td>212</td>\n",
       "      <td>2016-09-01 11:52:38 +0000</td>\n",
       "      <td>10.0</td>\n",
       "      <td>British Empire Chalet</td>\n",
       "      <td>http://www.booking.com/</td>\n",
       "      <td>Share</td>\n",
       "      <td>Tamil Nadu</td>\n",
       "      <td>7e0b055417271bbd9dae902f3e231ed4</td>\n",
       "    </tr>\n",
       "    <tr>\n",
       "      <th>2</th>\n",
       "      <td>PIPALKOTI, 246472 Pīpalkoti, India – Show map</td>\n",
       "      <td>pīpalkoti</td>\n",
       "      <td>India</td>\n",
       "      <td>2016-09-01</td>\n",
       "      <td>TRH Pipalkoti offers accommodation in Pīpalkot...</td>\n",
       "      <td>Bathroom:Toilet paper|Linen|Towels|Bathroom•Vi...</td>\n",
       "      <td>30.429540</td>\n",
       "      <td>79.428116</td>\n",
       "      <td>http://www.booking.com/hotel/in/trh-pipalkoti....</td>\n",
       "      <td>1741747.0</td>\n",
       "      <td>TRH Pipalkoti</td>\n",
       "      <td>204</td>\n",
       "      <td>2016-09-01 11:52:38 +0000</td>\n",
       "      <td>28.0</td>\n",
       "      <td>Economy Double Room</td>\n",
       "      <td>http://www.booking.com/</td>\n",
       "      <td>Share</td>\n",
       "      <td>Uttarakhand</td>\n",
       "      <td>72c0af09827bbb620365aa5df523ba1d</td>\n",
       "    </tr>\n",
       "    <tr>\n",
       "      <th>3</th>\n",
       "      <td>1 KARIYIL HOUSE KUMARAKOM NORTH PO KOTTAYAM, 6...</td>\n",
       "      <td>kumarakom</td>\n",
       "      <td>India</td>\n",
       "      <td>2016-09-01</td>\n",
       "      <td>Swasti house boat 2 is located in Kumarakom, 3...</td>\n",
       "      <td>Bathroom:Toilet paper|Towels|Bath|Shower•Bedro...</td>\n",
       "      <td>9.616057</td>\n",
       "      <td>76.428269</td>\n",
       "      <td>http://www.booking.com/hotel/in/swasti-house-b...</td>\n",
       "      <td>1747392.0</td>\n",
       "      <td>Swasti house boat 2</td>\n",
       "      <td>204</td>\n",
       "      <td>2016-09-01 11:52:38 +0000</td>\n",
       "      <td>1.0</td>\n",
       "      <td>Deluxe Room</td>\n",
       "      <td>http://www.booking.com/</td>\n",
       "      <td>Share</td>\n",
       "      <td>Kerala</td>\n",
       "      <td>eb6fd33d99aa4a8088caa8f3ecb08275</td>\n",
       "    </tr>\n",
       "    <tr>\n",
       "      <th>4</th>\n",
       "      <td>Kavanattinkara, 686563 Kumarakom, India – Show...</td>\n",
       "      <td>kumarakom</td>\n",
       "      <td>India</td>\n",
       "      <td>2016-09-01</td>\n",
       "      <td>Amrutham Houseboat 2 is set in Kumarakom, 5 km...</td>\n",
       "      <td>Bathroom:Toilet paper|Linen|Towels|Towels/Shee...</td>\n",
       "      <td>9.632854</td>\n",
       "      <td>76.423570</td>\n",
       "      <td>http://www.booking.com/hotel/in/amrutham-house...</td>\n",
       "      <td>1744962.0</td>\n",
       "      <td>Amrutham Houseboat 2</td>\n",
       "      <td>215</td>\n",
       "      <td>2016-09-01 11:52:38 +0000</td>\n",
       "      <td>2.0</td>\n",
       "      <td>Mobile Home</td>\n",
       "      <td>http://www.booking.com/</td>\n",
       "      <td>Share</td>\n",
       "      <td>Kerala</td>\n",
       "      <td>0814d9af7ad808863c04db8f30437c57</td>\n",
       "    </tr>\n",
       "  </tbody>\n",
       "</table>\n",
       "</div>"
      ],
      "text/plain": [
       "                                             address       city country  \\\n",
       "0     KHIRSU, 246147 Pauri, India – Great location -      pauri   India   \n",
       "1  Kaathadimattam, Balacola Post, NEAR Siva Tea F...       ooty   India   \n",
       "2      PIPALKOTI, 246472 Pīpalkoti, India – Show map  pīpalkoti   India   \n",
       "3  1 KARIYIL HOUSE KUMARAKOM NORTH PO KOTTAYAM, 6...  kumarakom   India   \n",
       "4  Kavanattinkara, 686563 Kumarakom, India – Show...  kumarakom   India   \n",
       "\n",
       "   crawl_date                                  hotel_description  \\\n",
       "0  2016-09-01  Khirsu By GMVN offers accommodation in Pauri. ...   \n",
       "1  2016-09-01  Situated in Ooty in the Tamil Nadu Region, 8 k...   \n",
       "2  2016-09-01  TRH Pipalkoti offers accommodation in Pīpalkot...   \n",
       "3  2016-09-01  Swasti house boat 2 is located in Kumarakom, 3...   \n",
       "4  2016-09-01  Amrutham Houseboat 2 is set in Kumarakom, 5 km...   \n",
       "\n",
       "                                    hotel_facilities   latitude  longitude  \\\n",
       "0  Bathroom:Toilet paper|Linen|Towels|Bathroom|To...  30.123749  78.793774   \n",
       "1  Bathroom:Toilet paper|Linen|Towels|Bidet|Towel...  11.329595  76.686732   \n",
       "2  Bathroom:Toilet paper|Linen|Towels|Bathroom•Vi...  30.429540  79.428116   \n",
       "3  Bathroom:Toilet paper|Towels|Bath|Shower•Bedro...   9.616057  76.428269   \n",
       "4  Bathroom:Toilet paper|Linen|Towels|Towels/Shee...   9.632854  76.423570   \n",
       "\n",
       "                                             pageurl  property_id  \\\n",
       "0  http://www.booking.com/hotel/in/khirsu-by-gmvn...    1742658.0   \n",
       "1  http://www.booking.com/hotel/in/global-village...    1755986.0   \n",
       "2  http://www.booking.com/hotel/in/trh-pipalkoti....    1741747.0   \n",
       "3  http://www.booking.com/hotel/in/swasti-house-b...    1747392.0   \n",
       "4  http://www.booking.com/hotel/in/amrutham-house...    1744962.0   \n",
       "\n",
       "          property_name property_type                        qts  room_count  \\\n",
       "0        Khirsu By GMVN           204  2016-09-01 11:52:38 +0000        18.0   \n",
       "1   Global Village Ooty           212  2016-09-01 11:52:38 +0000        10.0   \n",
       "2         TRH Pipalkoti           204  2016-09-01 11:52:38 +0000        28.0   \n",
       "3   Swasti house boat 2           204  2016-09-01 11:52:38 +0000         1.0   \n",
       "4  Amrutham Houseboat 2           215  2016-09-01 11:52:38 +0000         2.0   \n",
       "\n",
       "               room_type                 sitename special_tag        state  \\\n",
       "0    Economy Double Room  http://www.booking.com/       Share  Uttarakhand   \n",
       "1  British Empire Chalet  http://www.booking.com/       Share   Tamil Nadu   \n",
       "2    Economy Double Room  http://www.booking.com/       Share  Uttarakhand   \n",
       "3            Deluxe Room  http://www.booking.com/       Share       Kerala   \n",
       "4            Mobile Home  http://www.booking.com/       Share       Kerala   \n",
       "\n",
       "                            uniq_id  \n",
       "0  a5ea72415f8007fcbe65759830fdd3d9  \n",
       "1  7e0b055417271bbd9dae902f3e231ed4  \n",
       "2  72c0af09827bbb620365aa5df523ba1d  \n",
       "3  eb6fd33d99aa4a8088caa8f3ecb08275  \n",
       "4  0814d9af7ad808863c04db8f30437c57  "
      ]
     },
     "execution_count": 170,
     "metadata": {},
     "output_type": "execute_result"
    }
   ],
   "source": [
    "df.head()"
   ]
  },
  {
   "cell_type": "code",
   "execution_count": 171,
   "metadata": {},
   "outputs": [
    {
     "name": "stdout",
     "output_type": "stream",
     "text": [
      "124 1 391\n"
     ]
    }
   ],
   "source": [
    "print(len(df['room_count'].value_counts()),len(df['country'].value_counts()),len(df['room_type'].value_counts()))"
   ]
  },
  {
   "cell_type": "code",
   "execution_count": 172,
   "metadata": {},
   "outputs": [],
   "source": [
    "from sklearn.impute import SimpleImputer"
   ]
  },
  {
   "cell_type": "code",
   "execution_count": 173,
   "metadata": {},
   "outputs": [],
   "source": [
    "imputer = SimpleImputer(strategy='mean')"
   ]
  },
  {
   "cell_type": "code",
   "execution_count": 174,
   "metadata": {},
   "outputs": [],
   "source": [
    "num_cols = ['latitude','longitude','room_count','property_id']\n",
    "df_num = df[num_cols]\n",
    "df_cat = df.drop(columns = num_cols, axis = 1)"
   ]
  },
  {
   "cell_type": "code",
   "execution_count": 175,
   "metadata": {},
   "outputs": [],
   "source": [
    "imputer.fit(df_num)\n",
    "X = imputer.transform(df_num)\n",
    "df_num = pd.DataFrame(X, columns = df_num.columns, index = df_num.index)"
   ]
  },
  {
   "cell_type": "code",
   "execution_count": 176,
   "metadata": {},
   "outputs": [
    {
     "data": {
      "text/plain": [
       "latitude       0.0\n",
       "longitude      0.0\n",
       "room_count     0.0\n",
       "property_id    0.0\n",
       "dtype: float64"
      ]
     },
     "execution_count": 176,
     "metadata": {},
     "output_type": "execute_result"
    }
   ],
   "source": [
    "df_num.isnull().sum()/len(df_num)"
   ]
  },
  {
   "cell_type": "code",
   "execution_count": 177,
   "metadata": {},
   "outputs": [
    {
     "data": {
      "text/plain": [
       "(6000, 15)"
      ]
     },
     "execution_count": 177,
     "metadata": {},
     "output_type": "execute_result"
    }
   ],
   "source": [
    "df_num.shape\n",
    "df_cat.shape"
   ]
  },
  {
   "cell_type": "code",
   "execution_count": 178,
   "metadata": {},
   "outputs": [],
   "source": [
    "df_new = pd.concat([df_num,df_cat],axis=1,sort=False)\n",
    "df_new.dropna(axis=0,inplace=True)"
   ]
  },
  {
   "cell_type": "code",
   "execution_count": 179,
   "metadata": {},
   "outputs": [
    {
     "data": {
      "text/html": [
       "<div>\n",
       "<style scoped>\n",
       "    .dataframe tbody tr th:only-of-type {\n",
       "        vertical-align: middle;\n",
       "    }\n",
       "\n",
       "    .dataframe tbody tr th {\n",
       "        vertical-align: top;\n",
       "    }\n",
       "\n",
       "    .dataframe thead th {\n",
       "        text-align: right;\n",
       "    }\n",
       "</style>\n",
       "<table border=\"1\" class=\"dataframe\">\n",
       "  <thead>\n",
       "    <tr style=\"text-align: right;\">\n",
       "      <th></th>\n",
       "      <th>latitude</th>\n",
       "      <th>longitude</th>\n",
       "      <th>room_count</th>\n",
       "      <th>property_id</th>\n",
       "    </tr>\n",
       "  </thead>\n",
       "  <tbody>\n",
       "    <tr>\n",
       "      <th>latitude</th>\n",
       "      <td>1.000000</td>\n",
       "      <td>0.049055</td>\n",
       "      <td>-0.01084</td>\n",
       "      <td>-0.122789</td>\n",
       "    </tr>\n",
       "    <tr>\n",
       "      <th>longitude</th>\n",
       "      <td>0.049055</td>\n",
       "      <td>1.000000</td>\n",
       "      <td>0.02626</td>\n",
       "      <td>-0.022307</td>\n",
       "    </tr>\n",
       "    <tr>\n",
       "      <th>room_count</th>\n",
       "      <td>-0.010840</td>\n",
       "      <td>0.026260</td>\n",
       "      <td>1.00000</td>\n",
       "      <td>-0.285500</td>\n",
       "    </tr>\n",
       "    <tr>\n",
       "      <th>property_id</th>\n",
       "      <td>-0.122789</td>\n",
       "      <td>-0.022307</td>\n",
       "      <td>-0.28550</td>\n",
       "      <td>1.000000</td>\n",
       "    </tr>\n",
       "  </tbody>\n",
       "</table>\n",
       "</div>"
      ],
      "text/plain": [
       "             latitude  longitude  room_count  property_id\n",
       "latitude     1.000000   0.049055    -0.01084    -0.122789\n",
       "longitude    0.049055   1.000000     0.02626    -0.022307\n",
       "room_count  -0.010840   0.026260     1.00000    -0.285500\n",
       "property_id -0.122789  -0.022307    -0.28550     1.000000"
      ]
     },
     "execution_count": 179,
     "metadata": {},
     "output_type": "execute_result"
    }
   ],
   "source": [
    "df_new.corr()"
   ]
  },
  {
   "cell_type": "markdown",
   "metadata": {},
   "source": [
    "###### Question 1 \n",
    "- Not much of a correlation among the numerical variables\n",
    "- The above correlation matrix shows weaker correlations among the variables"
   ]
  },
  {
   "cell_type": "markdown",
   "metadata": {},
   "source": [
    "##### Question 2 - Best subset regression table"
   ]
  },
  {
   "cell_type": "code",
   "execution_count": 180,
   "metadata": {},
   "outputs": [],
   "source": [
    "num_cols = ['latitude','longitude','room_count','property_id']\n",
    "df_num = df_new[num_cols]\n",
    "df_cat = df_new.drop(columns = num_cols, axis = 1)"
   ]
  },
  {
   "cell_type": "code",
   "execution_count": 181,
   "metadata": {},
   "outputs": [],
   "source": [
    "columns1 = ['property_type','qts','special_tag','state']\n",
    "df_cat_new = df_cat[columns1]"
   ]
  },
  {
   "cell_type": "code",
   "execution_count": 182,
   "metadata": {},
   "outputs": [],
   "source": [
    "from sklearn.preprocessing import OneHotEncoder"
   ]
  },
  {
   "cell_type": "code",
   "execution_count": 183,
   "metadata": {},
   "outputs": [],
   "source": [
    "catEncoder = OneHotEncoder(sparse = False)"
   ]
  },
  {
   "cell_type": "code",
   "execution_count": 184,
   "metadata": {},
   "outputs": [],
   "source": [
    "df_cat_OneHotEncoded = catEncoder.fit_transform(df_cat_new)"
   ]
  },
  {
   "cell_type": "code",
   "execution_count": 185,
   "metadata": {},
   "outputs": [
    {
     "data": {
      "text/plain": [
       "(5353, 82)"
      ]
     },
     "execution_count": 185,
     "metadata": {},
     "output_type": "execute_result"
    }
   ],
   "source": [
    "df_cat_OneHotEncoded.shape"
   ]
  },
  {
   "cell_type": "code",
   "execution_count": 186,
   "metadata": {},
   "outputs": [],
   "source": [
    "final_df = pd.concat([df_num,pd.DataFrame(df_cat_OneHotEncoded)],axis = 1, sort = False)"
   ]
  },
  {
   "cell_type": "code",
   "execution_count": 187,
   "metadata": {},
   "outputs": [],
   "source": [
    "final_df.dropna(axis = 0,inplace=True)"
   ]
  },
  {
   "cell_type": "code",
   "execution_count": 188,
   "metadata": {
    "collapsed": true
   },
   "outputs": [
    {
     "data": {
      "text/plain": [
       "latitude       0.0\n",
       "longitude      0.0\n",
       "room_count     0.0\n",
       "property_id    0.0\n",
       "0              0.0\n",
       "1              0.0\n",
       "2              0.0\n",
       "3              0.0\n",
       "4              0.0\n",
       "5              0.0\n",
       "6              0.0\n",
       "7              0.0\n",
       "8              0.0\n",
       "9              0.0\n",
       "10             0.0\n",
       "11             0.0\n",
       "12             0.0\n",
       "13             0.0\n",
       "14             0.0\n",
       "15             0.0\n",
       "16             0.0\n",
       "17             0.0\n",
       "18             0.0\n",
       "19             0.0\n",
       "20             0.0\n",
       "21             0.0\n",
       "22             0.0\n",
       "23             0.0\n",
       "24             0.0\n",
       "25             0.0\n",
       "              ... \n",
       "52             0.0\n",
       "53             0.0\n",
       "54             0.0\n",
       "55             0.0\n",
       "56             0.0\n",
       "57             0.0\n",
       "58             0.0\n",
       "59             0.0\n",
       "60             0.0\n",
       "61             0.0\n",
       "62             0.0\n",
       "63             0.0\n",
       "64             0.0\n",
       "65             0.0\n",
       "66             0.0\n",
       "67             0.0\n",
       "68             0.0\n",
       "69             0.0\n",
       "70             0.0\n",
       "71             0.0\n",
       "72             0.0\n",
       "73             0.0\n",
       "74             0.0\n",
       "75             0.0\n",
       "76             0.0\n",
       "77             0.0\n",
       "78             0.0\n",
       "79             0.0\n",
       "80             0.0\n",
       "81             0.0\n",
       "Length: 86, dtype: float64"
      ]
     },
     "execution_count": 188,
     "metadata": {},
     "output_type": "execute_result"
    }
   ],
   "source": [
    "final_df.isnull().sum()/len(final_df)"
   ]
  },
  {
   "cell_type": "code",
   "execution_count": 189,
   "metadata": {},
   "outputs": [
    {
     "data": {
      "text/html": [
       "<div>\n",
       "<style scoped>\n",
       "    .dataframe tbody tr th:only-of-type {\n",
       "        vertical-align: middle;\n",
       "    }\n",
       "\n",
       "    .dataframe tbody tr th {\n",
       "        vertical-align: top;\n",
       "    }\n",
       "\n",
       "    .dataframe thead th {\n",
       "        text-align: right;\n",
       "    }\n",
       "</style>\n",
       "<table border=\"1\" class=\"dataframe\">\n",
       "  <thead>\n",
       "    <tr style=\"text-align: right;\">\n",
       "      <th></th>\n",
       "      <th>latitude</th>\n",
       "      <th>longitude</th>\n",
       "      <th>room_count</th>\n",
       "      <th>property_id</th>\n",
       "      <th>0</th>\n",
       "      <th>1</th>\n",
       "      <th>2</th>\n",
       "      <th>3</th>\n",
       "      <th>4</th>\n",
       "      <th>5</th>\n",
       "      <th>...</th>\n",
       "      <th>72</th>\n",
       "      <th>73</th>\n",
       "      <th>74</th>\n",
       "      <th>75</th>\n",
       "      <th>76</th>\n",
       "      <th>77</th>\n",
       "      <th>78</th>\n",
       "      <th>79</th>\n",
       "      <th>80</th>\n",
       "      <th>81</th>\n",
       "    </tr>\n",
       "  </thead>\n",
       "  <tbody>\n",
       "    <tr>\n",
       "      <th>0</th>\n",
       "      <td>30.123749</td>\n",
       "      <td>78.793774</td>\n",
       "      <td>18.0</td>\n",
       "      <td>1742658.0</td>\n",
       "      <td>0.0</td>\n",
       "      <td>0.0</td>\n",
       "      <td>1.0</td>\n",
       "      <td>0.0</td>\n",
       "      <td>0.0</td>\n",
       "      <td>0.0</td>\n",
       "      <td>...</td>\n",
       "      <td>0.0</td>\n",
       "      <td>0.0</td>\n",
       "      <td>0.0</td>\n",
       "      <td>0.0</td>\n",
       "      <td>0.0</td>\n",
       "      <td>0.0</td>\n",
       "      <td>0.0</td>\n",
       "      <td>0.0</td>\n",
       "      <td>1.0</td>\n",
       "      <td>0.0</td>\n",
       "    </tr>\n",
       "    <tr>\n",
       "      <th>1</th>\n",
       "      <td>11.329595</td>\n",
       "      <td>76.686732</td>\n",
       "      <td>10.0</td>\n",
       "      <td>1755986.0</td>\n",
       "      <td>0.0</td>\n",
       "      <td>0.0</td>\n",
       "      <td>0.0</td>\n",
       "      <td>0.0</td>\n",
       "      <td>0.0</td>\n",
       "      <td>0.0</td>\n",
       "      <td>...</td>\n",
       "      <td>0.0</td>\n",
       "      <td>0.0</td>\n",
       "      <td>0.0</td>\n",
       "      <td>0.0</td>\n",
       "      <td>0.0</td>\n",
       "      <td>1.0</td>\n",
       "      <td>0.0</td>\n",
       "      <td>0.0</td>\n",
       "      <td>0.0</td>\n",
       "      <td>0.0</td>\n",
       "    </tr>\n",
       "    <tr>\n",
       "      <th>2</th>\n",
       "      <td>30.429540</td>\n",
       "      <td>79.428116</td>\n",
       "      <td>28.0</td>\n",
       "      <td>1741747.0</td>\n",
       "      <td>0.0</td>\n",
       "      <td>0.0</td>\n",
       "      <td>1.0</td>\n",
       "      <td>0.0</td>\n",
       "      <td>0.0</td>\n",
       "      <td>0.0</td>\n",
       "      <td>...</td>\n",
       "      <td>0.0</td>\n",
       "      <td>0.0</td>\n",
       "      <td>0.0</td>\n",
       "      <td>0.0</td>\n",
       "      <td>0.0</td>\n",
       "      <td>0.0</td>\n",
       "      <td>0.0</td>\n",
       "      <td>0.0</td>\n",
       "      <td>1.0</td>\n",
       "      <td>0.0</td>\n",
       "    </tr>\n",
       "    <tr>\n",
       "      <th>3</th>\n",
       "      <td>9.616057</td>\n",
       "      <td>76.428269</td>\n",
       "      <td>1.0</td>\n",
       "      <td>1747392.0</td>\n",
       "      <td>0.0</td>\n",
       "      <td>0.0</td>\n",
       "      <td>1.0</td>\n",
       "      <td>0.0</td>\n",
       "      <td>0.0</td>\n",
       "      <td>0.0</td>\n",
       "      <td>...</td>\n",
       "      <td>0.0</td>\n",
       "      <td>0.0</td>\n",
       "      <td>0.0</td>\n",
       "      <td>0.0</td>\n",
       "      <td>0.0</td>\n",
       "      <td>0.0</td>\n",
       "      <td>0.0</td>\n",
       "      <td>0.0</td>\n",
       "      <td>0.0</td>\n",
       "      <td>0.0</td>\n",
       "    </tr>\n",
       "    <tr>\n",
       "      <th>4</th>\n",
       "      <td>9.632854</td>\n",
       "      <td>76.423570</td>\n",
       "      <td>2.0</td>\n",
       "      <td>1744962.0</td>\n",
       "      <td>0.0</td>\n",
       "      <td>0.0</td>\n",
       "      <td>0.0</td>\n",
       "      <td>0.0</td>\n",
       "      <td>0.0</td>\n",
       "      <td>0.0</td>\n",
       "      <td>...</td>\n",
       "      <td>0.0</td>\n",
       "      <td>0.0</td>\n",
       "      <td>0.0</td>\n",
       "      <td>0.0</td>\n",
       "      <td>0.0</td>\n",
       "      <td>0.0</td>\n",
       "      <td>0.0</td>\n",
       "      <td>0.0</td>\n",
       "      <td>0.0</td>\n",
       "      <td>0.0</td>\n",
       "    </tr>\n",
       "  </tbody>\n",
       "</table>\n",
       "<p>5 rows × 86 columns</p>\n",
       "</div>"
      ],
      "text/plain": [
       "    latitude  longitude  room_count  property_id    0    1    2    3    4  \\\n",
       "0  30.123749  78.793774        18.0    1742658.0  0.0  0.0  1.0  0.0  0.0   \n",
       "1  11.329595  76.686732        10.0    1755986.0  0.0  0.0  0.0  0.0  0.0   \n",
       "2  30.429540  79.428116        28.0    1741747.0  0.0  0.0  1.0  0.0  0.0   \n",
       "3   9.616057  76.428269         1.0    1747392.0  0.0  0.0  1.0  0.0  0.0   \n",
       "4   9.632854  76.423570         2.0    1744962.0  0.0  0.0  0.0  0.0  0.0   \n",
       "\n",
       "     5  ...   72   73   74   75   76   77   78   79   80   81  \n",
       "0  0.0  ...  0.0  0.0  0.0  0.0  0.0  0.0  0.0  0.0  1.0  0.0  \n",
       "1  0.0  ...  0.0  0.0  0.0  0.0  0.0  1.0  0.0  0.0  0.0  0.0  \n",
       "2  0.0  ...  0.0  0.0  0.0  0.0  0.0  0.0  0.0  0.0  1.0  0.0  \n",
       "3  0.0  ...  0.0  0.0  0.0  0.0  0.0  0.0  0.0  0.0  0.0  0.0  \n",
       "4  0.0  ...  0.0  0.0  0.0  0.0  0.0  0.0  0.0  0.0  0.0  0.0  \n",
       "\n",
       "[5 rows x 86 columns]"
      ]
     },
     "execution_count": 189,
     "metadata": {},
     "output_type": "execute_result"
    }
   ],
   "source": [
    "final_df.head()"
   ]
  },
  {
   "cell_type": "code",
   "execution_count": 190,
   "metadata": {},
   "outputs": [],
   "source": [
    "def fit_linear_reg(X,Y):\n",
    "    #Fit linear regression model and return RSS and R squared values\n",
    "    model_k = linear_model.LinearRegression(fit_intercept = True)\n",
    "    model_k.fit(X,Y)\n",
    "    RSS = mean_squared_error(Y,model_k.predict(X)) * len(Y)\n",
    "    R_squared = model_k.score(X,Y)\n",
    "    return RSS, R_squared\n",
    "    "
   ]
  },
  {
   "cell_type": "code",
   "execution_count": null,
   "metadata": {},
   "outputs": [
    {
     "data": {
      "application/vnd.jupyter.widget-view+json": {
       "model_id": "4c9a067b7fae4fe88bd83e1f745e19ee",
       "version_major": 2,
       "version_minor": 0
      },
      "text/plain": [
       "HBox(children=(IntProgress(value=0, description='Loop...', max=14, style=ProgressStyle(description_width='init…"
      ]
     },
     "metadata": {},
     "output_type": "display_data"
    }
   ],
   "source": [
    "#Importing tqdm for the progress bar\n",
    "from tqdm import tnrange, tqdm_notebook\n",
    "\n",
    "#Initialization variables\n",
    "Y = final_df.room_count\n",
    "X = final_df.drop(columns = 'room_count', axis = 1)\n",
    "k = 11\n",
    "RSS_list, R_squared_list, feature_list = [],[], []\n",
    "numb_features = []\n",
    "\n",
    "#Looping over k = 1 to k = 11 features in X\n",
    "for k in tnrange(1,15, desc = 'Loop...'):\n",
    "\n",
    "    #Looping over all possible combinations: from 11 choose k\n",
    "    for combo in itertools.combinations(X.columns,k):\n",
    "        tmp_result = fit_linear_reg(X[list(combo)],Y)   #Store temp result \n",
    "        RSS_list.append(tmp_result[0])                  #Append lists\n",
    "        R_squared_list.append(tmp_result[1])\n",
    "        feature_list.append(combo)\n",
    "        numb_features.append(len(combo))   \n",
    "\n",
    "#Store in DataFrame\n",
    "df = pd.DataFrame({'numb_features': numb_features,'RSS': RSS_list, 'R_squared':R_squared_list,'features':feature_list})"
   ]
  },
  {
   "cell_type": "markdown",
   "metadata": {},
   "source": [
    "##  The above dataframe gives us the best subset selection of features"
   ]
  },
  {
   "cell_type": "markdown",
   "metadata": {},
   "source": [
    "### Question 3\n",
    "- loocv"
   ]
  },
  {
   "cell_type": "code",
   "execution_count": null,
   "metadata": {},
   "outputs": [],
   "source": [
    "from sklearn.model_selection import cross_val_score\n",
    "lin_reg = linear_model.LinearRegression(fit_intercept = True)\n",
    "scores = cross_val_score(lin_reg, X, Y, cv=len(X))"
   ]
  },
  {
   "cell_type": "code",
   "execution_count": null,
   "metadata": {},
   "outputs": [],
   "source": []
  },
  {
   "cell_type": "markdown",
   "metadata": {},
   "source": [
    "#### Question 4\n",
    "- logistic regression setup"
   ]
  },
  {
   "cell_type": "markdown",
   "metadata": {},
   "source": [
    "- I would set it up by taking the mean of the target variable and dividing it into two categories\n",
    "- Any value less than the mean would be a zero and a value greater than the mean would be 1\n",
    "- No I would not add an additional binary variable as it would not add any information/use to the model\n",
    "- making my target varibale binary would be the easiest way out however we could also perform multiple class classification using the OVA or OVO techniqes by splitting the variable room_count into 'n' categories where 'n' is an integer\n"
   ]
  },
  {
   "cell_type": "markdown",
   "metadata": {},
   "source": [
    "###  Question 5\n",
    "- Setting up logistic model"
   ]
  },
  {
   "cell_type": "markdown",
   "metadata": {},
   "source": [
    "- Here my X variables/attributes would still remain the same where as our y variable as described above which be made binary."
   ]
  },
  {
   "cell_type": "code",
   "execution_count": null,
   "metadata": {},
   "outputs": [],
   "source": [
    "ab = final_df['room_count'].mean()"
   ]
  },
  {
   "cell_type": "code",
   "execution_count": null,
   "metadata": {},
   "outputs": [],
   "source": [
    "y = (final_df['room_count'] > ab)"
   ]
  },
  {
   "cell_type": "code",
   "execution_count": null,
   "metadata": {},
   "outputs": [],
   "source": [
    "from sklearn.linear_model import LogisticRegression\n",
    "log_reg = LogisticRegression()"
   ]
  },
  {
   "cell_type": "code",
   "execution_count": null,
   "metadata": {},
   "outputs": [],
   "source": [
    "model = log_reg.fit(X,y)"
   ]
  },
  {
   "cell_type": "code",
   "execution_count": null,
   "metadata": {},
   "outputs": [],
   "source": []
  }
 ],
 "metadata": {
  "kernelspec": {
   "display_name": "Python 3",
   "language": "python",
   "name": "python3"
  },
  "language_info": {
   "codemirror_mode": {
    "name": "ipython",
    "version": 3
   },
   "file_extension": ".py",
   "mimetype": "text/x-python",
   "name": "python",
   "nbconvert_exporter": "python",
   "pygments_lexer": "ipython3",
   "version": "3.7.3"
  }
 },
 "nbformat": 4,
 "nbformat_minor": 2
}
